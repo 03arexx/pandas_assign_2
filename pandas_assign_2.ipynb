{
 "cells": [
  {
   "cell_type": "markdown",
   "id": "f837b4c2-0a29-43be-a4e1-7a5d87eea479",
   "metadata": {},
   "source": [
    "Q1. List any five functions of the pandas library with execution."
   ]
  },
  {
   "cell_type": "code",
   "execution_count": 46,
   "id": "1f2fe6bd-aa8b-4ed5-b313-cd7d6177e6f4",
   "metadata": {},
   "outputs": [
    {
     "name": "stdout",
     "output_type": "stream",
     "text": [
      "            cars price\n",
      "0            BMW   60L\n",
      "1         TOYOTA   20L\n",
      "2          LEXUS   70L\n",
      "3       MERCEDES   80L\n",
      "4        HYUNDAI   15L\n",
      "5  MORRIS GARAGE   25L\n"
     ]
    }
   ],
   "source": [
    "import pandas  as pd\n",
    "\n",
    "mydataset={\n",
    "'cars':['BMW','TOYOTA','LEXUS','MERCEDES','HYUNDAI','MORRIS GARAGE'],\n",
    "'price':['60L','20L','70L','80L','15L','25L']   \n",
    "}\n",
    "\n",
    "\n",
    "df=pd.DataFrame(mydataset)\n",
    "\n",
    "print (df)"
   ]
  },
  {
   "cell_type": "code",
   "execution_count": 8,
   "id": "f2ca8143-c8bb-4f31-b628-1f47082d6d1e",
   "metadata": {},
   "outputs": [
    {
     "data": {
      "text/html": [
       "<div>\n",
       "<style scoped>\n",
       "    .dataframe tbody tr th:only-of-type {\n",
       "        vertical-align: middle;\n",
       "    }\n",
       "\n",
       "    .dataframe tbody tr th {\n",
       "        vertical-align: top;\n",
       "    }\n",
       "\n",
       "    .dataframe thead th {\n",
       "        text-align: right;\n",
       "    }\n",
       "</style>\n",
       "<table border=\"1\" class=\"dataframe\">\n",
       "  <thead>\n",
       "    <tr style=\"text-align: right;\">\n",
       "      <th></th>\n",
       "      <th>cars</th>\n",
       "      <th>price</th>\n",
       "    </tr>\n",
       "  </thead>\n",
       "  <tbody>\n",
       "    <tr>\n",
       "      <th>0</th>\n",
       "      <td>BMW</td>\n",
       "      <td>60L</td>\n",
       "    </tr>\n",
       "    <tr>\n",
       "      <th>1</th>\n",
       "      <td>TOYOTA</td>\n",
       "      <td>20L</td>\n",
       "    </tr>\n",
       "    <tr>\n",
       "      <th>2</th>\n",
       "      <td>LEXUS</td>\n",
       "      <td>70L</td>\n",
       "    </tr>\n",
       "    <tr>\n",
       "      <th>3</th>\n",
       "      <td>MERCEDES</td>\n",
       "      <td>80L</td>\n",
       "    </tr>\n",
       "    <tr>\n",
       "      <th>4</th>\n",
       "      <td>HYUNDAI</td>\n",
       "      <td>15L</td>\n",
       "    </tr>\n",
       "  </tbody>\n",
       "</table>\n",
       "</div>"
      ],
      "text/plain": [
       "       cars price\n",
       "0       BMW   60L\n",
       "1    TOYOTA   20L\n",
       "2     LEXUS   70L\n",
       "3  MERCEDES   80L\n",
       "4   HYUNDAI   15L"
      ]
     },
     "execution_count": 8,
     "metadata": {},
     "output_type": "execute_result"
    }
   ],
   "source": [
    "df.head()"
   ]
  },
  {
   "cell_type": "code",
   "execution_count": 9,
   "id": "f647348b-3531-49f6-9fc4-f3eb4db4b6ae",
   "metadata": {},
   "outputs": [
    {
     "data": {
      "text/html": [
       "<div>\n",
       "<style scoped>\n",
       "    .dataframe tbody tr th:only-of-type {\n",
       "        vertical-align: middle;\n",
       "    }\n",
       "\n",
       "    .dataframe tbody tr th {\n",
       "        vertical-align: top;\n",
       "    }\n",
       "\n",
       "    .dataframe thead th {\n",
       "        text-align: right;\n",
       "    }\n",
       "</style>\n",
       "<table border=\"1\" class=\"dataframe\">\n",
       "  <thead>\n",
       "    <tr style=\"text-align: right;\">\n",
       "      <th></th>\n",
       "      <th>cars</th>\n",
       "      <th>price</th>\n",
       "    </tr>\n",
       "  </thead>\n",
       "  <tbody>\n",
       "    <tr>\n",
       "      <th>0</th>\n",
       "      <td>BMW</td>\n",
       "      <td>60L</td>\n",
       "    </tr>\n",
       "    <tr>\n",
       "      <th>1</th>\n",
       "      <td>TOYOTA</td>\n",
       "      <td>20L</td>\n",
       "    </tr>\n",
       "  </tbody>\n",
       "</table>\n",
       "</div>"
      ],
      "text/plain": [
       "     cars price\n",
       "0     BMW   60L\n",
       "1  TOYOTA   20L"
      ]
     },
     "execution_count": 9,
     "metadata": {},
     "output_type": "execute_result"
    }
   ],
   "source": [
    "df.head(2)"
   ]
  },
  {
   "cell_type": "code",
   "execution_count": 10,
   "id": "ba363049-501a-4ceb-a3e9-565e61206592",
   "metadata": {},
   "outputs": [
    {
     "data": {
      "text/html": [
       "<div>\n",
       "<style scoped>\n",
       "    .dataframe tbody tr th:only-of-type {\n",
       "        vertical-align: middle;\n",
       "    }\n",
       "\n",
       "    .dataframe tbody tr th {\n",
       "        vertical-align: top;\n",
       "    }\n",
       "\n",
       "    .dataframe thead th {\n",
       "        text-align: right;\n",
       "    }\n",
       "</style>\n",
       "<table border=\"1\" class=\"dataframe\">\n",
       "  <thead>\n",
       "    <tr style=\"text-align: right;\">\n",
       "      <th></th>\n",
       "      <th>cars</th>\n",
       "      <th>price</th>\n",
       "    </tr>\n",
       "  </thead>\n",
       "  <tbody>\n",
       "    <tr>\n",
       "      <th>1</th>\n",
       "      <td>TOYOTA</td>\n",
       "      <td>20L</td>\n",
       "    </tr>\n",
       "    <tr>\n",
       "      <th>2</th>\n",
       "      <td>LEXUS</td>\n",
       "      <td>70L</td>\n",
       "    </tr>\n",
       "    <tr>\n",
       "      <th>3</th>\n",
       "      <td>MERCEDES</td>\n",
       "      <td>80L</td>\n",
       "    </tr>\n",
       "    <tr>\n",
       "      <th>4</th>\n",
       "      <td>HYUNDAI</td>\n",
       "      <td>15L</td>\n",
       "    </tr>\n",
       "    <tr>\n",
       "      <th>5</th>\n",
       "      <td>MORRIS GARAGE</td>\n",
       "      <td>25L</td>\n",
       "    </tr>\n",
       "  </tbody>\n",
       "</table>\n",
       "</div>"
      ],
      "text/plain": [
       "            cars price\n",
       "1         TOYOTA   20L\n",
       "2          LEXUS   70L\n",
       "3       MERCEDES   80L\n",
       "4        HYUNDAI   15L\n",
       "5  MORRIS GARAGE   25L"
      ]
     },
     "execution_count": 10,
     "metadata": {},
     "output_type": "execute_result"
    }
   ],
   "source": [
    "df.tail()"
   ]
  },
  {
   "cell_type": "code",
   "execution_count": 11,
   "id": "21690a07-31ae-4556-a3f8-a93c10ed7ff2",
   "metadata": {},
   "outputs": [
    {
     "data": {
      "text/html": [
       "<div>\n",
       "<style scoped>\n",
       "    .dataframe tbody tr th:only-of-type {\n",
       "        vertical-align: middle;\n",
       "    }\n",
       "\n",
       "    .dataframe tbody tr th {\n",
       "        vertical-align: top;\n",
       "    }\n",
       "\n",
       "    .dataframe thead th {\n",
       "        text-align: right;\n",
       "    }\n",
       "</style>\n",
       "<table border=\"1\" class=\"dataframe\">\n",
       "  <thead>\n",
       "    <tr style=\"text-align: right;\">\n",
       "      <th></th>\n",
       "      <th>cars</th>\n",
       "      <th>price</th>\n",
       "    </tr>\n",
       "  </thead>\n",
       "  <tbody>\n",
       "    <tr>\n",
       "      <th>3</th>\n",
       "      <td>MERCEDES</td>\n",
       "      <td>80L</td>\n",
       "    </tr>\n",
       "    <tr>\n",
       "      <th>4</th>\n",
       "      <td>HYUNDAI</td>\n",
       "      <td>15L</td>\n",
       "    </tr>\n",
       "    <tr>\n",
       "      <th>5</th>\n",
       "      <td>MORRIS GARAGE</td>\n",
       "      <td>25L</td>\n",
       "    </tr>\n",
       "  </tbody>\n",
       "</table>\n",
       "</div>"
      ],
      "text/plain": [
       "            cars price\n",
       "3       MERCEDES   80L\n",
       "4        HYUNDAI   15L\n",
       "5  MORRIS GARAGE   25L"
      ]
     },
     "execution_count": 11,
     "metadata": {},
     "output_type": "execute_result"
    }
   ],
   "source": [
    "df.tail(3)"
   ]
  },
  {
   "cell_type": "code",
   "execution_count": 12,
   "id": "8c4e45ef-512d-4eb4-a5cd-bcb208cc0d38",
   "metadata": {},
   "outputs": [
    {
     "data": {
      "text/plain": [
       "'            cars price\\n0            BMW   60L\\n1         TOYOTA   20L\\n2          LEXUS   70L\\n3       MERCEDES   80L\\n4        HYUNDAI   15L\\n5  MORRIS GARAGE   25L'"
      ]
     },
     "execution_count": 12,
     "metadata": {},
     "output_type": "execute_result"
    }
   ],
   "source": [
    "df.to_string()"
   ]
  },
  {
   "cell_type": "code",
   "execution_count": 13,
   "id": "42f489a2-0b47-4c05-b0d5-e41b1900eb0e",
   "metadata": {},
   "outputs": [
    {
     "data": {
      "text/html": [
       "<div>\n",
       "<style scoped>\n",
       "    .dataframe tbody tr th:only-of-type {\n",
       "        vertical-align: middle;\n",
       "    }\n",
       "\n",
       "    .dataframe tbody tr th {\n",
       "        vertical-align: top;\n",
       "    }\n",
       "\n",
       "    .dataframe thead th {\n",
       "        text-align: right;\n",
       "    }\n",
       "</style>\n",
       "<table border=\"1\" class=\"dataframe\">\n",
       "  <thead>\n",
       "    <tr style=\"text-align: right;\">\n",
       "      <th></th>\n",
       "      <th>cars</th>\n",
       "      <th>price</th>\n",
       "    </tr>\n",
       "  </thead>\n",
       "  <tbody>\n",
       "    <tr>\n",
       "      <th>count</th>\n",
       "      <td>6</td>\n",
       "      <td>6</td>\n",
       "    </tr>\n",
       "    <tr>\n",
       "      <th>unique</th>\n",
       "      <td>6</td>\n",
       "      <td>6</td>\n",
       "    </tr>\n",
       "    <tr>\n",
       "      <th>top</th>\n",
       "      <td>BMW</td>\n",
       "      <td>60L</td>\n",
       "    </tr>\n",
       "    <tr>\n",
       "      <th>freq</th>\n",
       "      <td>1</td>\n",
       "      <td>1</td>\n",
       "    </tr>\n",
       "  </tbody>\n",
       "</table>\n",
       "</div>"
      ],
      "text/plain": [
       "       cars price\n",
       "count     6     6\n",
       "unique    6     6\n",
       "top     BMW   60L\n",
       "freq      1     1"
      ]
     },
     "execution_count": 13,
     "metadata": {},
     "output_type": "execute_result"
    }
   ],
   "source": [
    "df.describe()"
   ]
  },
  {
   "cell_type": "code",
   "execution_count": 15,
   "id": "ef5c9a6d-9262-4663-a575-3c3c67936a7a",
   "metadata": {},
   "outputs": [
    {
     "data": {
      "text/plain": [
       "pandas.core.frame.DataFrame"
      ]
     },
     "execution_count": 15,
     "metadata": {},
     "output_type": "execute_result"
    }
   ],
   "source": [
    "type(df)"
   ]
  },
  {
   "cell_type": "code",
   "execution_count": 18,
   "id": "bd531832-d3ef-46a3-a910-7f3eb6b860eb",
   "metadata": {},
   "outputs": [
    {
     "data": {
      "text/plain": [
       "cars     object\n",
       "price    object\n",
       "dtype: object"
      ]
     },
     "execution_count": 18,
     "metadata": {},
     "output_type": "execute_result"
    }
   ],
   "source": [
    "df.dtypes"
   ]
  },
  {
   "cell_type": "code",
   "execution_count": 21,
   "id": "fb81732d-513c-4133-a013-ecb04d36567b",
   "metadata": {},
   "outputs": [
    {
     "data": {
      "text/plain": [
       "0              BMW\n",
       "1           TOYOTA\n",
       "2            LEXUS\n",
       "3         MERCEDES\n",
       "4          HYUNDAI\n",
       "5    MORRIS GARAGE\n",
       "Name: cars, dtype: object"
      ]
     },
     "execution_count": 21,
     "metadata": {},
     "output_type": "execute_result"
    }
   ],
   "source": [
    "df['cars']"
   ]
  },
  {
   "cell_type": "code",
   "execution_count": 24,
   "id": "ccb7bef2-23d0-4d38-93e9-7bef2c513dc9",
   "metadata": {},
   "outputs": [
    {
     "data": {
      "text/plain": [
       "0    60L\n",
       "1    20L\n",
       "2    70L\n",
       "3    80L\n",
       "4    15L\n",
       "5    25L\n",
       "Name: price, dtype: object"
      ]
     },
     "execution_count": 24,
     "metadata": {},
     "output_type": "execute_result"
    }
   ],
   "source": [
    "df['price']"
   ]
  },
  {
   "cell_type": "code",
   "execution_count": 29,
   "id": "bf8320c7-26d2-45dc-8936-0e735ee1e434",
   "metadata": {},
   "outputs": [
    {
     "data": {
      "text/plain": [
       "6"
      ]
     },
     "execution_count": 29,
     "metadata": {},
     "output_type": "execute_result"
    }
   ],
   "source": [
    "len(df)"
   ]
  },
  {
   "cell_type": "code",
   "execution_count": 32,
   "id": "b7c31320-fc4d-4f21-b226-24f34026dc65",
   "metadata": {},
   "outputs": [],
   "source": [
    "df=pd.Series(mydataset)"
   ]
  },
  {
   "cell_type": "code",
   "execution_count": 33,
   "id": "3f03a48b-af0f-4a7c-8123-fa11b19cdc50",
   "metadata": {},
   "outputs": [
    {
     "data": {
      "text/plain": [
       "cars     [BMW, TOYOTA, LEXUS, MERCEDES, HYUNDAI, MORRIS...\n",
       "price                       [60L, 20L, 70L, 80L, 15L, 25L]\n",
       "dtype: object"
      ]
     },
     "execution_count": 33,
     "metadata": {},
     "output_type": "execute_result"
    }
   ],
   "source": [
    "df"
   ]
  },
  {
   "cell_type": "markdown",
   "id": "984a3f20-b5b4-4128-bd81-c4f8c027db64",
   "metadata": {},
   "source": [
    "Q2. Given a Pandas DataFrame df with columns 'A', 'B', and 'C', write a Python function to re-index the\n",
    "DataFrame with a new index that starts from 1 and increments by 2 for each row."
   ]
  },
  {
   "cell_type": "code",
   "execution_count": 48,
   "id": "ebb90cbd-c90a-4be2-a20f-75b44cd0de51",
   "metadata": {},
   "outputs": [],
   "source": [
    "df=pd.DataFrame(mydataset , index=['A','B','C','D','E','F'])"
   ]
  },
  {
   "cell_type": "code",
   "execution_count": 49,
   "id": "8fa4fc75-4086-4054-815e-6953c704b95b",
   "metadata": {},
   "outputs": [
    {
     "data": {
      "text/html": [
       "<div>\n",
       "<style scoped>\n",
       "    .dataframe tbody tr th:only-of-type {\n",
       "        vertical-align: middle;\n",
       "    }\n",
       "\n",
       "    .dataframe tbody tr th {\n",
       "        vertical-align: top;\n",
       "    }\n",
       "\n",
       "    .dataframe thead th {\n",
       "        text-align: right;\n",
       "    }\n",
       "</style>\n",
       "<table border=\"1\" class=\"dataframe\">\n",
       "  <thead>\n",
       "    <tr style=\"text-align: right;\">\n",
       "      <th></th>\n",
       "      <th>cars</th>\n",
       "      <th>price</th>\n",
       "    </tr>\n",
       "  </thead>\n",
       "  <tbody>\n",
       "    <tr>\n",
       "      <th>A</th>\n",
       "      <td>BMW</td>\n",
       "      <td>60L</td>\n",
       "    </tr>\n",
       "    <tr>\n",
       "      <th>B</th>\n",
       "      <td>TOYOTA</td>\n",
       "      <td>20L</td>\n",
       "    </tr>\n",
       "    <tr>\n",
       "      <th>C</th>\n",
       "      <td>LEXUS</td>\n",
       "      <td>70L</td>\n",
       "    </tr>\n",
       "    <tr>\n",
       "      <th>D</th>\n",
       "      <td>MERCEDES</td>\n",
       "      <td>80L</td>\n",
       "    </tr>\n",
       "    <tr>\n",
       "      <th>E</th>\n",
       "      <td>HYUNDAI</td>\n",
       "      <td>15L</td>\n",
       "    </tr>\n",
       "    <tr>\n",
       "      <th>F</th>\n",
       "      <td>MORRIS GARAGE</td>\n",
       "      <td>25L</td>\n",
       "    </tr>\n",
       "  </tbody>\n",
       "</table>\n",
       "</div>"
      ],
      "text/plain": [
       "            cars price\n",
       "A            BMW   60L\n",
       "B         TOYOTA   20L\n",
       "C          LEXUS   70L\n",
       "D       MERCEDES   80L\n",
       "E        HYUNDAI   15L\n",
       "F  MORRIS GARAGE   25L"
      ]
     },
     "execution_count": 49,
     "metadata": {},
     "output_type": "execute_result"
    }
   ],
   "source": [
    "df"
   ]
  },
  {
   "cell_type": "code",
   "execution_count": 60,
   "id": "5e0007c9-2e8d-4fe8-8d75-2207f12d8bc0",
   "metadata": {},
   "outputs": [],
   "source": [
    "def reindex_with_incrementing_index(df):\n",
    "    \n",
    "    new_index = pd.Series(range(1, 2 * len(df), 2))\n",
    "    df.index = new_index\n",
    "    return df"
   ]
  },
  {
   "cell_type": "code",
   "execution_count": 61,
   "id": "a2f91684-f1bb-44ba-a5dd-d1ce124442b0",
   "metadata": {},
   "outputs": [
    {
     "name": "stdout",
     "output_type": "stream",
     "text": [
      "             cars price\n",
      "1             BMW   60L\n",
      "3          TOYOTA   20L\n",
      "5           LEXUS   70L\n",
      "7        MERCEDES   80L\n",
      "9         HYUNDAI   15L\n",
      "11  MORRIS GARAGE   25L\n"
     ]
    }
   ],
   "source": [
    "df_new = reindex_with_incrementing_index(df)\n",
    "print(df_new)"
   ]
  },
  {
   "cell_type": "markdown",
   "id": "a07d129b-fed2-4405-8d13-46ba17a9e1ad",
   "metadata": {},
   "source": [
    "Q3. You have a Pandas DataFrame df with a column named 'Values'. Write a Python function that\n",
    "iterates over the DataFrame and calculates the sum of the first three values in the 'Values' column. The\n",
    "function should print the sum to the console."
   ]
  },
  {
   "cell_type": "code",
   "execution_count": 62,
   "id": "be63301a-9f56-487b-ad1f-b924f32134f3",
   "metadata": {},
   "outputs": [],
   "source": [
    "data={\n",
    "'food':['burger','pizza','fries','coffee'],\n",
    "'values':[100,400,200,100]    \n",
    "}\n",
    "\n",
    "df=pd.DataFrame(data)"
   ]
  },
  {
   "cell_type": "code",
   "execution_count": 64,
   "id": "30664cb2-ce43-4a31-b913-93047130d6dc",
   "metadata": {},
   "outputs": [
    {
     "data": {
      "text/html": [
       "<div>\n",
       "<style scoped>\n",
       "    .dataframe tbody tr th:only-of-type {\n",
       "        vertical-align: middle;\n",
       "    }\n",
       "\n",
       "    .dataframe tbody tr th {\n",
       "        vertical-align: top;\n",
       "    }\n",
       "\n",
       "    .dataframe thead th {\n",
       "        text-align: right;\n",
       "    }\n",
       "</style>\n",
       "<table border=\"1\" class=\"dataframe\">\n",
       "  <thead>\n",
       "    <tr style=\"text-align: right;\">\n",
       "      <th></th>\n",
       "      <th>food</th>\n",
       "      <th>values</th>\n",
       "    </tr>\n",
       "  </thead>\n",
       "  <tbody>\n",
       "    <tr>\n",
       "      <th>0</th>\n",
       "      <td>burger</td>\n",
       "      <td>100</td>\n",
       "    </tr>\n",
       "    <tr>\n",
       "      <th>1</th>\n",
       "      <td>pizza</td>\n",
       "      <td>400</td>\n",
       "    </tr>\n",
       "    <tr>\n",
       "      <th>2</th>\n",
       "      <td>fries</td>\n",
       "      <td>200</td>\n",
       "    </tr>\n",
       "    <tr>\n",
       "      <th>3</th>\n",
       "      <td>coffee</td>\n",
       "      <td>100</td>\n",
       "    </tr>\n",
       "  </tbody>\n",
       "</table>\n",
       "</div>"
      ],
      "text/plain": [
       "     food  values\n",
       "0  burger     100\n",
       "1   pizza     400\n",
       "2   fries     200\n",
       "3  coffee     100"
      ]
     },
     "execution_count": 64,
     "metadata": {},
     "output_type": "execute_result"
    }
   ],
   "source": [
    "df"
   ]
  },
  {
   "cell_type": "code",
   "execution_count": 89,
   "id": "171a7e5c-63c0-49e9-b567-b89ec32f2ab1",
   "metadata": {},
   "outputs": [],
   "source": [
    "def sum_of_fisrt_three_values(df):\n",
    "    \n",
    "    values=df['values'].head(3).sum()\n",
    "    return values\n",
    "        \n",
    "        \n",
    "        \n",
    "         \n",
    "    "
   ]
  },
  {
   "cell_type": "code",
   "execution_count": 90,
   "id": "6e9c99fd-804c-49d3-b400-25279a5e7a34",
   "metadata": {},
   "outputs": [
    {
     "name": "stdout",
     "output_type": "stream",
     "text": [
      "700\n"
     ]
    }
   ],
   "source": [
    "resad=sum_of_fisrt_three_values(df)\n",
    "print(resad)"
   ]
  },
  {
   "cell_type": "markdown",
   "id": "636cfcd1-56a1-420e-a09f-3616964257c6",
   "metadata": {},
   "source": [
    "Q4. Given a Pandas DataFrame df with a column 'Text', write a Python function to create a new column\n",
    "'Word_Count' that contains the number of words in each row of the 'Text' column."
   ]
  },
  {
   "cell_type": "code",
   "execution_count": 117,
   "id": "0a8dc4c8-6ec4-4638-b3cd-4e460a643f2c",
   "metadata": {},
   "outputs": [
    {
     "name": "stdout",
     "output_type": "stream",
     "text": [
      "              Text  Word_Count\n",
      "0  Hey I am Reshad           4\n",
      "1  Nice t meet you           4\n",
      "2         have fun           2\n"
     ]
    }
   ],
   "source": [
    "import pandas as pd\n",
    "data = {'Text': ['Hey I am Reshad', 'Nice t meet you', 'have fun']}\n",
    "df = pd.DataFrame(data)\n",
    "def calculate_word_count(text):\n",
    "    words = text.split()\n",
    "    return len(words)\n",
    "df['Word_Count'] = df['Text'].apply(calculate_word_count)\n",
    "print(df)\n"
   ]
  },
  {
   "cell_type": "markdown",
   "id": "2ef29233-a3cb-4b70-b576-b48903d77858",
   "metadata": {},
   "source": [
    "Q5. How are DataFrame.size() and DataFrame.shape() different?"
   ]
  },
  {
   "cell_type": "markdown",
   "id": "dbcd9c39-4758-4c25-81f5-15ab64480ae6",
   "metadata": {},
   "source": [
    "DataFrame.shape returns a tuple representing the dimensions (rows, columns) of the DataFrame.\n",
    "DataFrame.size returns an integer representing the total number of elements in the DataFrame."
   ]
  },
  {
   "cell_type": "markdown",
   "id": "cff88a31-c36d-482d-b1b9-78c42d3727cc",
   "metadata": {},
   "source": [
    "Q6. Which function of pandas do we use to read an excel file?"
   ]
  },
  {
   "cell_type": "raw",
   "id": "b238a826-a44e-4765-99ab-1190aa9f939e",
   "metadata": {},
   "source": [
    "you can use the read_excel() function to read data from an Excel file into a Pandas dataframe\n",
    "\n"
   ]
  },
  {
   "cell_type": "markdown",
   "id": "c6d8586b-c0a5-482d-972b-3297dd0f9905",
   "metadata": {},
   "source": [
    "pd.read_excel()"
   ]
  },
  {
   "cell_type": "markdown",
   "id": "19263f7f-0822-4ae3-9a6e-48aa5932f13c",
   "metadata": {},
   "source": [
    "Q7. You have a Pandas DataFrame df that contains a column named 'Email' that contains email\n",
    "addresses in the format 'username@domain.com'. Write a Python function that creates a new column\n",
    "'Username' in df that contains only the username part of each email address."
   ]
  },
  {
   "cell_type": "code",
   "execution_count": 2,
   "id": "c94ff78b-af33-4fc4-97b5-2dce65a74365",
   "metadata": {},
   "outputs": [],
   "source": [
    "import pandas as pd\n",
    "data_set={'Email':['rexx03@gmail.com','ad123@gmail.com','reshad89@gmail.com']}\n",
    "\n",
    "df=pd.DataFrame(data_set)"
   ]
  },
  {
   "cell_type": "code",
   "execution_count": 3,
   "id": "d7ac29fb-a0c4-44a0-9c7b-ef4e8e1c8c2b",
   "metadata": {},
   "outputs": [
    {
     "data": {
      "text/html": [
       "<div>\n",
       "<style scoped>\n",
       "    .dataframe tbody tr th:only-of-type {\n",
       "        vertical-align: middle;\n",
       "    }\n",
       "\n",
       "    .dataframe tbody tr th {\n",
       "        vertical-align: top;\n",
       "    }\n",
       "\n",
       "    .dataframe thead th {\n",
       "        text-align: right;\n",
       "    }\n",
       "</style>\n",
       "<table border=\"1\" class=\"dataframe\">\n",
       "  <thead>\n",
       "    <tr style=\"text-align: right;\">\n",
       "      <th></th>\n",
       "      <th>Email</th>\n",
       "    </tr>\n",
       "  </thead>\n",
       "  <tbody>\n",
       "    <tr>\n",
       "      <th>0</th>\n",
       "      <td>rexx03@gmail.com</td>\n",
       "    </tr>\n",
       "    <tr>\n",
       "      <th>1</th>\n",
       "      <td>ad123@gmail.com</td>\n",
       "    </tr>\n",
       "    <tr>\n",
       "      <th>2</th>\n",
       "      <td>reshad89@gmail.com</td>\n",
       "    </tr>\n",
       "  </tbody>\n",
       "</table>\n",
       "</div>"
      ],
      "text/plain": [
       "                Email\n",
       "0    rexx03@gmail.com\n",
       "1     ad123@gmail.com\n",
       "2  reshad89@gmail.com"
      ]
     },
     "execution_count": 3,
     "metadata": {},
     "output_type": "execute_result"
    }
   ],
   "source": [
    "df"
   ]
  },
  {
   "cell_type": "code",
   "execution_count": 7,
   "id": "7403a921-b061-40c5-a086-33b82fac1cc5",
   "metadata": {},
   "outputs": [
    {
     "name": "stdout",
     "output_type": "stream",
     "text": [
      "                Email   new_col\n",
      "0    rexx03@gmail.com    rexx03\n",
      "1     ad123@gmail.com     ad123\n",
      "2  reshad89@gmail.com  reshad89\n"
     ]
    }
   ],
   "source": [
    "def user_name(Email):\n",
    "    useername=Email.split('@')\n",
    "    return (useername[0])\n",
    "\n",
    "df['new_col']=df['Email'].apply(user_name)\n",
    "\n",
    "print (df)\n",
    "    \n",
    "    \n",
    "    "
   ]
  },
  {
   "cell_type": "markdown",
   "id": "a1e985a0-5621-4597-8364-2dbe90bf3333",
   "metadata": {},
   "source": [
    "Q8. You have a Pandas DataFrame df with columns 'A', 'B', and 'C'. Write a Python function that selects\n",
    "all rows where the value in column 'A' is greater than 5 and the value in column 'B' is less than 10. The\n",
    "function should return a new DataFrame that contains only the selected rows."
   ]
  },
  {
   "cell_type": "markdown",
   "id": "4807fbd2-a9d6-43ba-857b-bbb8ef60e212",
   "metadata": {},
   "source": [
    "A B C\n",
    "0 3 5 1\n",
    "1 8 2 7\n",
    "2 6 9 4\n",
    "3 2 3 5\n",
    "4 9 1 2"
   ]
  },
  {
   "cell_type": "code",
   "execution_count": 5,
   "id": "f58020e2-87a7-4324-b692-fce2023e8c74",
   "metadata": {},
   "outputs": [],
   "source": [
    "data__set={\n",
    "'A':[3,8,6,2,9],\n",
    "'B':[5,2,9,3,1],\n",
    "'c':[1,7,4,5,2]   \n",
    "}\n",
    "\n",
    "import pandas as pd\n",
    "df=pd.DataFrame(data__set)"
   ]
  },
  {
   "cell_type": "code",
   "execution_count": 6,
   "id": "4d982782-6643-4dd5-9680-bb39ca9f98e4",
   "metadata": {},
   "outputs": [
    {
     "data": {
      "text/html": [
       "<div>\n",
       "<style scoped>\n",
       "    .dataframe tbody tr th:only-of-type {\n",
       "        vertical-align: middle;\n",
       "    }\n",
       "\n",
       "    .dataframe tbody tr th {\n",
       "        vertical-align: top;\n",
       "    }\n",
       "\n",
       "    .dataframe thead th {\n",
       "        text-align: right;\n",
       "    }\n",
       "</style>\n",
       "<table border=\"1\" class=\"dataframe\">\n",
       "  <thead>\n",
       "    <tr style=\"text-align: right;\">\n",
       "      <th></th>\n",
       "      <th>A</th>\n",
       "      <th>B</th>\n",
       "      <th>c</th>\n",
       "    </tr>\n",
       "  </thead>\n",
       "  <tbody>\n",
       "    <tr>\n",
       "      <th>0</th>\n",
       "      <td>3</td>\n",
       "      <td>5</td>\n",
       "      <td>1</td>\n",
       "    </tr>\n",
       "    <tr>\n",
       "      <th>1</th>\n",
       "      <td>8</td>\n",
       "      <td>2</td>\n",
       "      <td>7</td>\n",
       "    </tr>\n",
       "    <tr>\n",
       "      <th>2</th>\n",
       "      <td>6</td>\n",
       "      <td>9</td>\n",
       "      <td>4</td>\n",
       "    </tr>\n",
       "    <tr>\n",
       "      <th>3</th>\n",
       "      <td>2</td>\n",
       "      <td>3</td>\n",
       "      <td>5</td>\n",
       "    </tr>\n",
       "    <tr>\n",
       "      <th>4</th>\n",
       "      <td>9</td>\n",
       "      <td>1</td>\n",
       "      <td>2</td>\n",
       "    </tr>\n",
       "  </tbody>\n",
       "</table>\n",
       "</div>"
      ],
      "text/plain": [
       "   A  B  c\n",
       "0  3  5  1\n",
       "1  8  2  7\n",
       "2  6  9  4\n",
       "3  2  3  5\n",
       "4  9  1  2"
      ]
     },
     "execution_count": 6,
     "metadata": {},
     "output_type": "execute_result"
    }
   ],
   "source": [
    "df"
   ]
  },
  {
   "cell_type": "code",
   "execution_count": 7,
   "id": "8db5942b-d0dc-407a-a7c2-b1cd9511661e",
   "metadata": {},
   "outputs": [
    {
     "name": "stdout",
     "output_type": "stream",
     "text": [
      "   A  B  c\n",
      "1  8  2  7\n",
      "2  6  9  4\n",
      "4  9  1  2\n"
     ]
    }
   ],
   "source": [
    "def select_rows(df):\n",
    "    selected_rows = df[(df['A'] > 5) & (df['B'] < 10)]\n",
    "    return selected_rows\n",
    "selected_df = select_rows(df)\n",
    "print(selected_df)\n",
    "\n",
    "             \n",
    "           \n",
    "        \n",
    "            \n",
    "    "
   ]
  },
  {
   "cell_type": "markdown",
   "id": "2f878b11-08f1-4912-b5ea-3d996bb436b0",
   "metadata": {},
   "source": [
    "Q9. Given a Pandas DataFrame df with a column 'Values', write a Python function to calculate the mean,\n",
    "median, and standard deviation of the values in the 'Values' column."
   ]
  },
  {
   "cell_type": "code",
   "execution_count": 8,
   "id": "10b0d360-513b-436d-92b5-72078f5a89f0",
   "metadata": {},
   "outputs": [],
   "source": [
    "data_set={\n",
    "'values':[2,3,5,6,34,9,8,]\n",
    "}\n",
    "\n",
    "df = pd.DataFrame(data_set)"
   ]
  },
  {
   "cell_type": "code",
   "execution_count": 9,
   "id": "6ba72ebe-bd5f-4cd8-9fd0-8fb9106f193a",
   "metadata": {},
   "outputs": [
    {
     "data": {
      "text/html": [
       "<div>\n",
       "<style scoped>\n",
       "    .dataframe tbody tr th:only-of-type {\n",
       "        vertical-align: middle;\n",
       "    }\n",
       "\n",
       "    .dataframe tbody tr th {\n",
       "        vertical-align: top;\n",
       "    }\n",
       "\n",
       "    .dataframe thead th {\n",
       "        text-align: right;\n",
       "    }\n",
       "</style>\n",
       "<table border=\"1\" class=\"dataframe\">\n",
       "  <thead>\n",
       "    <tr style=\"text-align: right;\">\n",
       "      <th></th>\n",
       "      <th>values</th>\n",
       "    </tr>\n",
       "  </thead>\n",
       "  <tbody>\n",
       "    <tr>\n",
       "      <th>0</th>\n",
       "      <td>2</td>\n",
       "    </tr>\n",
       "    <tr>\n",
       "      <th>1</th>\n",
       "      <td>3</td>\n",
       "    </tr>\n",
       "    <tr>\n",
       "      <th>2</th>\n",
       "      <td>5</td>\n",
       "    </tr>\n",
       "    <tr>\n",
       "      <th>3</th>\n",
       "      <td>6</td>\n",
       "    </tr>\n",
       "    <tr>\n",
       "      <th>4</th>\n",
       "      <td>34</td>\n",
       "    </tr>\n",
       "    <tr>\n",
       "      <th>5</th>\n",
       "      <td>9</td>\n",
       "    </tr>\n",
       "    <tr>\n",
       "      <th>6</th>\n",
       "      <td>8</td>\n",
       "    </tr>\n",
       "  </tbody>\n",
       "</table>\n",
       "</div>"
      ],
      "text/plain": [
       "   values\n",
       "0       2\n",
       "1       3\n",
       "2       5\n",
       "3       6\n",
       "4      34\n",
       "5       9\n",
       "6       8"
      ]
     },
     "execution_count": 9,
     "metadata": {},
     "output_type": "execute_result"
    }
   ],
   "source": [
    "df"
   ]
  },
  {
   "cell_type": "code",
   "execution_count": 51,
   "id": "3083ea33-671e-4a4e-be7d-d5653a2feb30",
   "metadata": {},
   "outputs": [],
   "source": [
    "def mean_med_sd(values):\n",
    "    x=df['values'].mean()\n",
    "    y=df['values'].median()\n",
    "    z=df['values'].std()\n",
    "    \n",
    "    return x,y,z\n",
    "\n"
   ]
  },
  {
   "cell_type": "code",
   "execution_count": 52,
   "id": "2acf7429-ab20-4da3-808f-d5b748bf9bbe",
   "metadata": {},
   "outputs": [],
   "source": [
    "df['mean_med_std']=df['values'].apply(mean_med_sd)"
   ]
  },
  {
   "cell_type": "code",
   "execution_count": 55,
   "id": "531bf444-17c7-46b1-a5e5-ed78d61686b2",
   "metadata": {},
   "outputs": [
    {
     "data": {
      "text/html": [
       "<div>\n",
       "<style scoped>\n",
       "    .dataframe tbody tr th:only-of-type {\n",
       "        vertical-align: middle;\n",
       "    }\n",
       "\n",
       "    .dataframe tbody tr th {\n",
       "        vertical-align: top;\n",
       "    }\n",
       "\n",
       "    .dataframe thead th {\n",
       "        text-align: right;\n",
       "    }\n",
       "</style>\n",
       "<table border=\"1\" class=\"dataframe\">\n",
       "  <thead>\n",
       "    <tr style=\"text-align: right;\">\n",
       "      <th></th>\n",
       "      <th>values</th>\n",
       "      <th>(mean, median, st.dv)</th>\n",
       "      <th>mean_med_std</th>\n",
       "    </tr>\n",
       "  </thead>\n",
       "  <tbody>\n",
       "    <tr>\n",
       "      <th>0</th>\n",
       "      <td>2</td>\n",
       "      <td>(9.571428571428571, 6.0)</td>\n",
       "      <td>(9.571428571428571, 6.0, 11.058287131636359)</td>\n",
       "    </tr>\n",
       "    <tr>\n",
       "      <th>1</th>\n",
       "      <td>3</td>\n",
       "      <td>(9.571428571428571, 6.0)</td>\n",
       "      <td>(9.571428571428571, 6.0, 11.058287131636359)</td>\n",
       "    </tr>\n",
       "    <tr>\n",
       "      <th>2</th>\n",
       "      <td>5</td>\n",
       "      <td>(9.571428571428571, 6.0)</td>\n",
       "      <td>(9.571428571428571, 6.0, 11.058287131636359)</td>\n",
       "    </tr>\n",
       "    <tr>\n",
       "      <th>3</th>\n",
       "      <td>6</td>\n",
       "      <td>(9.571428571428571, 6.0)</td>\n",
       "      <td>(9.571428571428571, 6.0, 11.058287131636359)</td>\n",
       "    </tr>\n",
       "    <tr>\n",
       "      <th>4</th>\n",
       "      <td>34</td>\n",
       "      <td>(9.571428571428571, 6.0)</td>\n",
       "      <td>(9.571428571428571, 6.0, 11.058287131636359)</td>\n",
       "    </tr>\n",
       "    <tr>\n",
       "      <th>5</th>\n",
       "      <td>9</td>\n",
       "      <td>(9.571428571428571, 6.0)</td>\n",
       "      <td>(9.571428571428571, 6.0, 11.058287131636359)</td>\n",
       "    </tr>\n",
       "    <tr>\n",
       "      <th>6</th>\n",
       "      <td>8</td>\n",
       "      <td>(9.571428571428571, 6.0)</td>\n",
       "      <td>(9.571428571428571, 6.0, 11.058287131636359)</td>\n",
       "    </tr>\n",
       "  </tbody>\n",
       "</table>\n",
       "</div>"
      ],
      "text/plain": [
       "   values     (mean, median, st.dv)  \\\n",
       "0       2  (9.571428571428571, 6.0)   \n",
       "1       3  (9.571428571428571, 6.0)   \n",
       "2       5  (9.571428571428571, 6.0)   \n",
       "3       6  (9.571428571428571, 6.0)   \n",
       "4      34  (9.571428571428571, 6.0)   \n",
       "5       9  (9.571428571428571, 6.0)   \n",
       "6       8  (9.571428571428571, 6.0)   \n",
       "\n",
       "                                   mean_med_std  \n",
       "0  (9.571428571428571, 6.0, 11.058287131636359)  \n",
       "1  (9.571428571428571, 6.0, 11.058287131636359)  \n",
       "2  (9.571428571428571, 6.0, 11.058287131636359)  \n",
       "3  (9.571428571428571, 6.0, 11.058287131636359)  \n",
       "4  (9.571428571428571, 6.0, 11.058287131636359)  \n",
       "5  (9.571428571428571, 6.0, 11.058287131636359)  \n",
       "6  (9.571428571428571, 6.0, 11.058287131636359)  "
      ]
     },
     "execution_count": 55,
     "metadata": {},
     "output_type": "execute_result"
    }
   ],
   "source": [
    "df"
   ]
  },
  {
   "cell_type": "markdown",
   "id": "f43ff68d-66b1-4648-b165-840b1fa89658",
   "metadata": {},
   "source": [
    "Q10. Given a Pandas DataFrame df with a column 'Sales' and a column 'Date', write a Python function to\n",
    "create a new column 'MovingAverage' that contains the moving average of the sales for the past 7 days\n",
    "for each row in the DataFrame. The moving average should be calculated using a window of size 7 and\n",
    "should include the current day."
   ]
  },
  {
   "cell_type": "code",
   "execution_count": 71,
   "id": "e4008e02-414e-4a01-94a3-00c1a34380d2",
   "metadata": {},
   "outputs": [],
   "source": [
    "data={\n",
    "'Sales':[10000,50000,60000,25000,34000],\n",
    "'Date':[21,22,23,24,25]   \n",
    "}\n",
    "\n",
    "df=pd.DataFrame(data)"
   ]
  },
  {
   "cell_type": "code",
   "execution_count": 72,
   "id": "66347c45-b666-4694-a2f6-c251ca23f251",
   "metadata": {},
   "outputs": [
    {
     "name": "stdout",
     "output_type": "stream",
     "text": [
      "   Sales  Date  MovingAverage\n",
      "0  10000    21        10000.0\n",
      "1  50000    22        30000.0\n",
      "2  60000    23        40000.0\n",
      "3  25000    24        36250.0\n",
      "4  34000    25        35800.0\n"
     ]
    }
   ],
   "source": [
    "def add_moving_average(df):\n",
    "\n",
    "    df = df.sort_values('Date').reset_index(drop=True)\n",
    "    \n",
    "    df['MovingAverage'] = df['Sales'].rolling(window=7, min_periods=1).mean()\n",
    "    \n",
    "    return df\n",
    "df = add_moving_average(df)\n",
    "\n",
    "print(df)\n"
   ]
  },
  {
   "cell_type": "markdown",
   "id": "13a9e2b7-9b30-4a80-a20b-2e77a9b57c40",
   "metadata": {},
   "source": [
    "Q11. You have a Pandas DataFrame df with a column 'Date'. Write a Python function that creates a new\n",
    "column 'Weekday' in the DataFrame. The 'Weekday' column should contain the weekday name (e.g.\n",
    "Monday, Tuesday) corresponding to each date in the 'Date' column."
   ]
  },
  {
   "cell_type": "code",
   "execution_count": 20,
   "id": "84462794-82a6-4c8a-9346-51cdc5ec7de7",
   "metadata": {},
   "outputs": [],
   "source": [
    "import pandas as pd\n",
    "date_data={\n",
    "'Date':['2023-01-01','2023-01-02','2023-01-03','2023-01-04','2023-01-05']\n",
    "}\n",
    "\n",
    "df=pd.DataFrame(date_data)\n"
   ]
  },
  {
   "cell_type": "code",
   "execution_count": 21,
   "id": "ca2669e9-7474-4841-8ebe-c56c1c434bda",
   "metadata": {},
   "outputs": [
    {
     "data": {
      "text/html": [
       "<div>\n",
       "<style scoped>\n",
       "    .dataframe tbody tr th:only-of-type {\n",
       "        vertical-align: middle;\n",
       "    }\n",
       "\n",
       "    .dataframe tbody tr th {\n",
       "        vertical-align: top;\n",
       "    }\n",
       "\n",
       "    .dataframe thead th {\n",
       "        text-align: right;\n",
       "    }\n",
       "</style>\n",
       "<table border=\"1\" class=\"dataframe\">\n",
       "  <thead>\n",
       "    <tr style=\"text-align: right;\">\n",
       "      <th></th>\n",
       "      <th>Date</th>\n",
       "    </tr>\n",
       "  </thead>\n",
       "  <tbody>\n",
       "    <tr>\n",
       "      <th>0</th>\n",
       "      <td>2023-01-01</td>\n",
       "    </tr>\n",
       "    <tr>\n",
       "      <th>1</th>\n",
       "      <td>2023-01-02</td>\n",
       "    </tr>\n",
       "    <tr>\n",
       "      <th>2</th>\n",
       "      <td>2023-01-03</td>\n",
       "    </tr>\n",
       "    <tr>\n",
       "      <th>3</th>\n",
       "      <td>2023-01-04</td>\n",
       "    </tr>\n",
       "    <tr>\n",
       "      <th>4</th>\n",
       "      <td>2023-01-05</td>\n",
       "    </tr>\n",
       "  </tbody>\n",
       "</table>\n",
       "</div>"
      ],
      "text/plain": [
       "         Date\n",
       "0  2023-01-01\n",
       "1  2023-01-02\n",
       "2  2023-01-03\n",
       "3  2023-01-04\n",
       "4  2023-01-05"
      ]
     },
     "execution_count": 21,
     "metadata": {},
     "output_type": "execute_result"
    }
   ],
   "source": [
    "df"
   ]
  },
  {
   "cell_type": "code",
   "execution_count": 41,
   "id": "d3209fef-1c4f-4057-a114-9914201e5559",
   "metadata": {},
   "outputs": [],
   "source": [
    "def weekday_(df):\n",
    "    \n",
    "    df['Date']=pd.to_datetime(df['Date'])\n",
    "    \n",
    "    df['Weekday'] = df['Date'].dt.strftime('%A')\n",
    "    \n",
    "    return df\n"
   ]
  },
  {
   "cell_type": "code",
   "execution_count": 42,
   "id": "c45a34db-57a2-4eb9-bd93-92dae71bb3a6",
   "metadata": {},
   "outputs": [],
   "source": [
    "e=weekday_(df)"
   ]
  },
  {
   "cell_type": "code",
   "execution_count": 43,
   "id": "54c5d21b-8b0d-4a8a-a2c7-56fb99a22892",
   "metadata": {},
   "outputs": [
    {
     "data": {
      "text/html": [
       "<div>\n",
       "<style scoped>\n",
       "    .dataframe tbody tr th:only-of-type {\n",
       "        vertical-align: middle;\n",
       "    }\n",
       "\n",
       "    .dataframe tbody tr th {\n",
       "        vertical-align: top;\n",
       "    }\n",
       "\n",
       "    .dataframe thead th {\n",
       "        text-align: right;\n",
       "    }\n",
       "</style>\n",
       "<table border=\"1\" class=\"dataframe\">\n",
       "  <thead>\n",
       "    <tr style=\"text-align: right;\">\n",
       "      <th></th>\n",
       "      <th>Date</th>\n",
       "      <th>Weekday</th>\n",
       "    </tr>\n",
       "  </thead>\n",
       "  <tbody>\n",
       "    <tr>\n",
       "      <th>0</th>\n",
       "      <td>2023-01-01</td>\n",
       "      <td>Sunday</td>\n",
       "    </tr>\n",
       "    <tr>\n",
       "      <th>1</th>\n",
       "      <td>2023-01-02</td>\n",
       "      <td>Monday</td>\n",
       "    </tr>\n",
       "    <tr>\n",
       "      <th>2</th>\n",
       "      <td>2023-01-03</td>\n",
       "      <td>Tuesday</td>\n",
       "    </tr>\n",
       "    <tr>\n",
       "      <th>3</th>\n",
       "      <td>2023-01-04</td>\n",
       "      <td>Wednesday</td>\n",
       "    </tr>\n",
       "    <tr>\n",
       "      <th>4</th>\n",
       "      <td>2023-01-05</td>\n",
       "      <td>Thursday</td>\n",
       "    </tr>\n",
       "  </tbody>\n",
       "</table>\n",
       "</div>"
      ],
      "text/plain": [
       "        Date    Weekday\n",
       "0 2023-01-01     Sunday\n",
       "1 2023-01-02     Monday\n",
       "2 2023-01-03    Tuesday\n",
       "3 2023-01-04  Wednesday\n",
       "4 2023-01-05   Thursday"
      ]
     },
     "execution_count": 43,
     "metadata": {},
     "output_type": "execute_result"
    }
   ],
   "source": [
    "e"
   ]
  },
  {
   "cell_type": "markdown",
   "id": "aa669a13-af07-439a-9c18-0e03a7dedde5",
   "metadata": {},
   "source": [
    "Q12. Given a Pandas DataFrame df with a column 'Date' that contains timestamps, write a Python\n",
    "function to select all rows where the date is between '2023-01-01' and '2023-01-31'."
   ]
  },
  {
   "cell_type": "code",
   "execution_count": 45,
   "id": "dd927017-2c71-4254-a6cd-4980799bcc43",
   "metadata": {},
   "outputs": [],
   "source": [
    "import pandas as pd\n",
    "\n",
    "def select_rows_between_dates(df, date_column_name, start_date, end_date):\n",
    "   \n",
    "    df[date_column_name] = pd.to_datetime(df[date_column_name])\n",
    "    \n",
    "   \n",
    "    mask = (df[date_column_name] >= start_date) & (df[date_column_name] <= end_date)\n",
    "    filtered_df = df.loc[mask]\n",
    "    \n",
    "    return filtered_df\n"
   ]
  },
  {
   "cell_type": "code",
   "execution_count": 46,
   "id": "b4fdca2a-909f-4180-9c94-a00fc283fa32",
   "metadata": {},
   "outputs": [
    {
     "name": "stdout",
     "output_type": "stream",
     "text": [
      "        Date\n",
      "0 2023-01-15\n",
      "1 2023-01-20\n",
      "3 2023-01-25\n",
      "4 2023-01-10\n"
     ]
    }
   ],
   "source": [
    "data = {\n",
    "    'Date': ['2023-01-15', '2023-01-20', '2023-02-05', '2023-01-25', '2023-01-10']\n",
    "}\n",
    "df = pd.DataFrame(data)\n",
    "\n",
    "filtered_df = select_rows_between_dates(df, 'Date', '2023-01-01', '2023-01-31')\n",
    "\n",
    "print(filtered_df)\n"
   ]
  },
  {
   "cell_type": "code",
   "execution_count": null,
   "id": "b4829c38-9b6a-43c5-addd-423a80e80229",
   "metadata": {},
   "outputs": [],
   "source": []
  }
 ],
 "metadata": {
  "kernelspec": {
   "display_name": "Python 3 (ipykernel)",
   "language": "python",
   "name": "python3"
  },
  "language_info": {
   "codemirror_mode": {
    "name": "ipython",
    "version": 3
   },
   "file_extension": ".py",
   "mimetype": "text/x-python",
   "name": "python",
   "nbconvert_exporter": "python",
   "pygments_lexer": "ipython3",
   "version": "3.10.8"
  }
 },
 "nbformat": 4,
 "nbformat_minor": 5
}
